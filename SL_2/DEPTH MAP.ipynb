{
 "cells": [
  {
   "cell_type": "markdown",
   "id": "0d8d5d79",
   "metadata": {},
   "source": [
    "# DEPTH MAP FROM SCRATCH"
   ]
  },
  {
   "cell_type": "code",
   "execution_count": 9,
   "id": "e10f75c4",
   "metadata": {},
   "outputs": [
    {
     "data": {
      "text/plain": [
       "True"
      ]
     },
     "execution_count": 9,
     "metadata": {},
     "output_type": "execute_result"
    }
   ],
   "source": [
    "import cv2\n",
    "import numpy as np\n",
    "\n",
    "#Loaded the left and the right images.\n",
    "\n",
    "left_image = cv2.imread('left.png', cv2.IMREAD_GRAYSCALE)\n",
    "right_image = cv2.imread('right.png', cv2.IMREAD_GRAYSCALE)\n",
    "\n",
    "\n",
    "def stereo_matching(left_img, right_img, block_size, disparity_range):\n",
    "    \n",
    "    height, width = left_img.shape\n",
    "    disparity_map = np.zeros((height, width) , dtype=np.uint8) # Made disparity map for calculating disparity in each pixel in the image.\n",
    "\n",
    "    half_block = block_size // 2\n",
    "\n",
    "    for y in range(half_block, height - half_block):   # Set y and x to iterate through every pixel in the image and make a block of desired size around it.\n",
    "        for x in range(half_block, width - half_block):\n",
    "            best_disparity = 0\n",
    "            min_difference = float('inf')\n",
    "\n",
    "            left_block = left_img[y - half_block:y + half_block + 1, x - half_block:x + half_block + 1] # made of block around a \n",
    "                                                                                                        # particular pixel.\n",
    "\n",
    "            for disparity in range(disparity_range):  # For boundary conditions\n",
    "                if x - disparity < half_block:\n",
    "                    break\n",
    "\n",
    "                right_block = right_img[y - half_block:y + half_block + 1, x - disparity - half_block:x - disparity + half_block + 1]\n",
    "                diff = np.sum(np.abs(left_block - right_block))\n",
    "\n",
    "                if diff < min_difference:\n",
    "                    min_difference = diff\n",
    "                    best_disparity = disparity        # Assigning the best disparity on the basis of difference calculated.\n",
    "\n",
    "            disparity_map[y, x] = best_disparity * (255 // disparity_range) \n",
    "\n",
    "    return disparity_map\n",
    "disparity_range = 16  # Change as needed based on the expected max disparity\n",
    "block_size = 20  # Size of the block for matching\n",
    "disparity_map = stereo_matching(left_image, right_image, block_size, disparity_range)\n",
    "\n",
    "\n",
    "depth_map = cv2.applyColorMap(disparity_map, cv2.COLORMAP_JET)\n",
    "cv2.imwrite('Depth_map_from_scratch.png', depth_map)"
   ]
  },
  {
   "cell_type": "code",
   "execution_count": null,
   "id": "d0324c55",
   "metadata": {},
   "outputs": [],
   "source": []
  }
 ],
 "metadata": {
  "kernelspec": {
   "display_name": "Python 3 (ipykernel)",
   "language": "python",
   "name": "python3"
  },
  "language_info": {
   "codemirror_mode": {
    "name": "ipython",
    "version": 3
   },
   "file_extension": ".py",
   "mimetype": "text/x-python",
   "name": "python",
   "nbconvert_exporter": "python",
   "pygments_lexer": "ipython3",
   "version": "3.11.4"
  }
 },
 "nbformat": 4,
 "nbformat_minor": 5
}
